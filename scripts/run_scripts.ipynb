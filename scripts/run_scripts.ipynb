{
 "cells": [
  {
   "cell_type": "markdown",
   "metadata": {},
   "source": [
    "Run scripts from nb"
   ]
  },
  {
   "cell_type": "code",
   "execution_count": 7,
   "metadata": {},
   "outputs": [
    {
     "name": "stdout",
     "output_type": "stream",
     "text": [
      "download_data.sh\t  second_level_boosting.py  train_model.py\r\n",
      "make_test_predictions.py  second_level_configs\t    train_squeezenet_ignite.py\r\n",
      "run_scripts2.ipynb\t  submission_avg_models.py  unzip_data.sh\r\n",
      "run_scripts3.ipynb\t  test_configs\r\n",
      "run_scripts.ipynb\t  train_configs\r\n"
     ]
    }
   ],
   "source": [
    "!ls"
   ]
  },
  {
   "cell_type": "code",
   "execution_count": 8,
   "metadata": {},
   "outputs": [],
   "source": [
    "import os\n",
    "os.environ['PRETRAINED_MODELS'] = '../../../pretrained-models.pytorch/'"
   ]
  },
  {
   "cell_type": "code",
   "execution_count": null,
   "metadata": {
    "scrolled": true
   },
   "outputs": [],
   "source": [
    "from datetime import datetime\n",
    "now = datetime.now()\n",
    "config_file = \"config_vgglike_20171217_2225\"\n",
    "\n",
    "!python3 train_model.py train_configs/{config_file}.json > ../output/jobs/{now.strftime(\"%Y%m%d_%H%M\")}_{config_file} 2>&1"
   ]
  },
  {
   "cell_type": "code",
   "execution_count": null,
   "metadata": {},
   "outputs": [],
   "source": []
  },
  {
   "cell_type": "code",
   "execution_count": 20,
   "metadata": {
    "scrolled": true
   },
   "outputs": [
    {
     "name": "stdout",
     "output_type": "stream",
     "text": [
      "^C\r\n"
     ]
    }
   ],
   "source": [
    "from datetime import datetime\n",
    "now = datetime.now()\n",
    "config_file = \"config_pretrained=false_vgg16_20171212_0110\"\n",
    "\n",
    "!python3 train_model.py train_configs/{config_file}.json > ../output/jobs/{now.strftime(\"%Y%m%d_%H%M\")}_{config_file} 2>&1"
   ]
  },
  {
   "cell_type": "code",
   "execution_count": null,
   "metadata": {},
   "outputs": [],
   "source": []
  },
  {
   "cell_type": "code",
   "execution_count": 34,
   "metadata": {
    "scrolled": true
   },
   "outputs": [],
   "source": [
    "from datetime import datetime\n",
    "now = datetime.now()\n",
    "config_file = \"config_inceptionv4_20171209_1230\"\n",
    "\n",
    "!python3 train_model.py train_configs/{config_file}.json > ../output/jobs/{now.strftime(\"%Y%m%d_%H%M\")}_{config_file} 2>&1"
   ]
  },
  {
   "cell_type": "code",
   "execution_count": null,
   "metadata": {},
   "outputs": [],
   "source": []
  },
  {
   "cell_type": "code",
   "execution_count": null,
   "metadata": {},
   "outputs": [],
   "source": [
    "# from datetime import datetime\n",
    "# now = datetime.now()\n",
    "# config_file = \"config_densenet_20171207_1950\"\n",
    "\n",
    "# !python3 train_model.py train_configs/{config_file}.json"
   ]
  },
  {
   "cell_type": "code",
   "execution_count": null,
   "metadata": {},
   "outputs": [],
   "source": []
  },
  {
   "cell_type": "code",
   "execution_count": null,
   "metadata": {},
   "outputs": [],
   "source": []
  },
  {
   "cell_type": "code",
   "execution_count": 4,
   "metadata": {},
   "outputs": [],
   "source": [
    "from datetime import datetime\n",
    "now = datetime.now()\n",
    "config_file = \"config_single_network_20171203_1500\"\n",
    "\n",
    "!python3 make_predictions.py test_configs/{config_file}.json > ../output/jobs/{now.strftime(\"%Y%m%d_%H%M\")}_{config_file} 2>&1"
   ]
  },
  {
   "cell_type": "code",
   "execution_count": null,
   "metadata": {},
   "outputs": [],
   "source": []
  },
  {
   "cell_type": "code",
   "execution_count": 38,
   "metadata": {},
   "outputs": [],
   "source": [
    "from datetime import datetime\n",
    "now = datetime.now()\n",
    "config_file = \"config_kfolds_inceptionv4_20171209_1500\"\n",
    "\n",
    "!python3 make_predictions.py test_configs/{config_file}.json > ../output/jobs/{now.strftime(\"%Y%m%d_%H%M\")}_{config_file} 2>&1"
   ]
  },
  {
   "cell_type": "code",
   "execution_count": 29,
   "metadata": {},
   "outputs": [],
   "source": [
    "# !python3 make_predictions.py test_configs/{config_file}.json"
   ]
  },
  {
   "cell_type": "code",
   "execution_count": null,
   "metadata": {},
   "outputs": [],
   "source": []
  },
  {
   "cell_type": "code",
   "execution_count": 39,
   "metadata": {},
   "outputs": [
    {
     "name": "stdout",
     "output_type": "stream",
     "text": [
      "\r\n",
      "Write submission as average proba of multiple models predictions\r\n",
      "\r\n"
     ]
    }
   ],
   "source": [
    "!python3 submission_avg_models.py ../output/20171210_0000_predictions_config_kfolds_inceptionv4_20171209_1500"
   ]
  },
  {
   "cell_type": "code",
   "execution_count": null,
   "metadata": {},
   "outputs": [],
   "source": []
  }
 ],
 "metadata": {
  "kernelspec": {
   "display_name": "Python 3",
   "language": "python",
   "name": "python3"
  },
  "language_info": {
   "codemirror_mode": {
    "name": "ipython",
    "version": 3
   },
   "file_extension": ".py",
   "mimetype": "text/x-python",
   "name": "python",
   "nbconvert_exporter": "python",
   "pygments_lexer": "ipython3",
   "version": "3.5.2"
  }
 },
 "nbformat": 4,
 "nbformat_minor": 2
}
