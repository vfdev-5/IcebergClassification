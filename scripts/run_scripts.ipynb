{
 "cells": [
  {
   "cell_type": "markdown",
   "metadata": {},
   "source": [
    "Run scripts from nb"
   ]
  },
  {
   "cell_type": "code",
   "execution_count": 2,
   "metadata": {},
   "outputs": [
    {
     "name": "stdout",
     "output_type": "stream",
     "text": [
      "download_data.sh     submission_avg_models.py  train_squeezenet_ignite.py\r\n",
      "make_predictions.py  test_configs\t       unzip_data.sh\r\n",
      "run_scripts2.ipynb   train_configs\r\n",
      "run_scripts.ipynb    train_model.py\r\n"
     ]
    }
   ],
   "source": [
    "!ls"
   ]
  },
  {
   "cell_type": "code",
   "execution_count": 3,
   "metadata": {},
   "outputs": [],
   "source": [
    "import os\n",
    "os.environ['PRETRAINED_MODELS'] = '../../../pretrained-models.pytorch/'"
   ]
  },
  {
   "cell_type": "code",
   "execution_count": null,
   "metadata": {
    "scrolled": true
   },
   "outputs": [],
   "source": [
    "from datetime import datetime\n",
    "now = datetime.now()\n",
    "config_file = \"config_vgg_20171209_1015\"\n",
    "\n",
    "!python3 train_model.py train_configs/{config_file}.json > ../output/jobs/{now.strftime(\"%Y%m%d_%H%M\")}_{config_file} 2>&1"
   ]
  },
  {
   "cell_type": "code",
   "execution_count": null,
   "metadata": {},
   "outputs": [],
   "source": []
  },
  {
   "cell_type": "code",
   "execution_count": 13,
   "metadata": {
    "scrolled": true
   },
   "outputs": [],
   "source": [
    "from datetime import datetime\n",
    "now = datetime.now()\n",
    "config_file = \"config_vgg_20171208_2152\"\n",
    "\n",
    "!python3 train_model.py train_configs/{config_file}.json > ../output/jobs/{now.strftime(\"%Y%m%d_%H%M\")}_{config_file} 2>&1"
   ]
  },
  {
   "cell_type": "code",
   "execution_count": null,
   "metadata": {},
   "outputs": [],
   "source": []
  },
  {
   "cell_type": "code",
   "execution_count": null,
   "metadata": {},
   "outputs": [],
   "source": [
    "# from datetime import datetime\n",
    "# now = datetime.now()\n",
    "# config_file = \"config_densenet_20171207_1950\"\n",
    "\n",
    "# !python3 train_model.py train_configs/{config_file}.json"
   ]
  },
  {
   "cell_type": "code",
   "execution_count": null,
   "metadata": {},
   "outputs": [],
   "source": []
  },
  {
   "cell_type": "code",
   "execution_count": null,
   "metadata": {},
   "outputs": [],
   "source": []
  },
  {
   "cell_type": "code",
   "execution_count": 4,
   "metadata": {},
   "outputs": [],
   "source": [
    "from datetime import datetime\n",
    "now = datetime.now()\n",
    "config_file = \"config_single_network_20171203_1500\"\n",
    "\n",
    "!python3 make_predictions.py test_configs/{config_file}.json > ../output/jobs/{now.strftime(\"%Y%m%d_%H%M\")}_{config_file} 2>&1"
   ]
  },
  {
   "cell_type": "code",
   "execution_count": null,
   "metadata": {},
   "outputs": [],
   "source": []
  },
  {
   "cell_type": "code",
   "execution_count": 28,
   "metadata": {},
   "outputs": [],
   "source": [
    "from datetime import datetime\n",
    "now = datetime.now()\n",
    "config_file = \"config_kfolds_vgg_v0_20171209_1100\"\n",
    "\n",
    "!python3 make_predictions.py test_configs/{config_file}.json > ../output/jobs/{now.strftime(\"%Y%m%d_%H%M\")}_{config_file} 2>&1"
   ]
  },
  {
   "cell_type": "code",
   "execution_count": 29,
   "metadata": {},
   "outputs": [],
   "source": [
    "# !python3 make_predictions.py test_configs/{config_file}.json"
   ]
  },
  {
   "cell_type": "code",
   "execution_count": null,
   "metadata": {},
   "outputs": [],
   "source": []
  },
  {
   "cell_type": "code",
   "execution_count": 31,
   "metadata": {},
   "outputs": [
    {
     "name": "stdout",
     "output_type": "stream",
     "text": [
      "\r\n",
      "Write submission as average proba of multiple models predictions\r\n",
      "\r\n"
     ]
    }
   ],
   "source": [
    "!python3 submission_avg_models.py ../output/predictions_config_kfolds_vgg_v0_20171209_1100_20171209_1019"
   ]
  },
  {
   "cell_type": "code",
   "execution_count": null,
   "metadata": {},
   "outputs": [],
   "source": []
  }
 ],
 "metadata": {
  "kernelspec": {
   "display_name": "Python 3",
   "language": "python",
   "name": "python3"
  },
  "language_info": {
   "codemirror_mode": {
    "name": "ipython",
    "version": 3
   },
   "file_extension": ".py",
   "mimetype": "text/x-python",
   "name": "python",
   "nbconvert_exporter": "python",
   "pygments_lexer": "ipython3",
   "version": "3.5.2"
  }
 },
 "nbformat": 4,
 "nbformat_minor": 2
}
