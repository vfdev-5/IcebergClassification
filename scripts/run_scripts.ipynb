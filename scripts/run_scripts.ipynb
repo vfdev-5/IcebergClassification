{
 "cells": [
  {
   "cell_type": "markdown",
   "metadata": {},
   "source": [
    "Run scripts from nb"
   ]
  },
  {
   "cell_type": "code",
   "execution_count": 2,
   "metadata": {},
   "outputs": [
    {
     "name": "stdout",
     "output_type": "stream",
     "text": [
      "create_pseudolabels.py\t      second_level_configs\r\n",
      "download_data.sh\t      submission_avg_models.py\r\n",
      "make_test_predictions.py      test_configs\r\n",
      "make_test_xgb_predictions.py  train_configs\r\n",
      "process_dataset.py\t      train_model.py\r\n",
      "run_scripts2.ipynb\t      train_squeezenet_ignite.py\r\n",
      "run_scripts3.ipynb\t      train_xgb_model.py\r\n",
      "run_scripts.ipynb\t      unzip_data.sh\r\n",
      "second_level_boosting.py\r\n"
     ]
    }
   ],
   "source": [
    "!ls"
   ]
  },
  {
   "cell_type": "code",
   "execution_count": 3,
   "metadata": {},
   "outputs": [],
   "source": [
    "import os\n",
    "os.environ['PRETRAINED_MODELS'] = '../../../pretrained-models.pytorch/'"
   ]
  },
  {
   "cell_type": "code",
   "execution_count": 21,
   "metadata": {
    "scrolled": true
   },
   "outputs": [],
   "source": [
    "from datetime import datetime\n",
    "now = datetime.now()\n",
    "config_file = \"config_densenet161_20171221_0040\"\n",
    "\n",
    "!python3 train_model.py train_configs/{config_file}.json > ../output/jobs/{now.strftime(\"%Y%m%d_%H%M\")}_{config_file} 2>&1"
   ]
  },
  {
   "cell_type": "code",
   "execution_count": null,
   "metadata": {},
   "outputs": [],
   "source": []
  },
  {
   "cell_type": "code",
   "execution_count": null,
   "metadata": {},
   "outputs": [],
   "source": []
  },
  {
   "cell_type": "code",
   "execution_count": null,
   "metadata": {
    "scrolled": true
   },
   "outputs": [],
   "source": [
    "from datetime import datetime\n",
    "now = datetime.now()\n",
    "config_file = \"config_densenet161_3b_minimal_data_aug\"\n",
    "\n",
    "!python3 train_model.py train_configs/densenet161_dataflow_tests/{config_file}.json > ../output/jobs/{now.strftime(\"%Y%m%d_%H%M\")}_{config_file} 2>&1"
   ]
  },
  {
   "cell_type": "code",
   "execution_count": 21,
   "metadata": {
    "scrolled": true
   },
   "outputs": [],
   "source": [
    "from datetime import datetime\n",
    "now = datetime.now()\n",
    "config_file = \"config_densenet161_20171221_0040\"\n",
    "\n",
    "!python3 train_model.py train_configs/densenet161_dataflow_tests/{config_file}.json > ../output/jobs/{now.strftime(\"%Y%m%d_%H%M\")}_{config_file} 2>&1"
   ]
  },
  {
   "cell_type": "code",
   "execution_count": 21,
   "metadata": {
    "scrolled": true
   },
   "outputs": [],
   "source": [
    "from datetime import datetime\n",
    "now = datetime.now()\n",
    "config_file = \"config_densenet161_20171221_0040\"\n",
    "\n",
    "!python3 train_model.py train_configs/densenet161_dataflow_tests/{config_file}.json > ../output/jobs/{now.strftime(\"%Y%m%d_%H%M\")}_{config_file} 2>&1"
   ]
  },
  {
   "cell_type": "code",
   "execution_count": null,
   "metadata": {},
   "outputs": [],
   "source": []
  },
  {
   "cell_type": "code",
   "execution_count": null,
   "metadata": {},
   "outputs": [],
   "source": []
  },
  {
   "cell_type": "code",
   "execution_count": null,
   "metadata": {},
   "outputs": [],
   "source": []
  },
  {
   "cell_type": "code",
   "execution_count": 20,
   "metadata": {
    "scrolled": true
   },
   "outputs": [
    {
     "name": "stdout",
     "output_type": "stream",
     "text": [
      "^C\r\n"
     ]
    }
   ],
   "source": [
    "from datetime import datetime\n",
    "now = datetime.now()\n",
    "config_file = \"config_pretrained=false_vgg16_20171212_0110\"\n",
    "\n",
    "!python3 train_model.py train_configs/{config_file}.json > ../output/jobs/{now.strftime(\"%Y%m%d_%H%M\")}_{config_file} 2>&1"
   ]
  },
  {
   "cell_type": "code",
   "execution_count": null,
   "metadata": {},
   "outputs": [],
   "source": []
  },
  {
   "cell_type": "code",
   "execution_count": 34,
   "metadata": {
    "scrolled": true
   },
   "outputs": [],
   "source": [
    "from datetime import datetime\n",
    "now = datetime.now()\n",
    "config_file = \"config_inceptionv4_20171209_1230\"\n",
    "\n",
    "!python3 train_model.py train_configs/{config_file}.json > ../output/jobs/{now.strftime(\"%Y%m%d_%H%M\")}_{config_file} 2>&1"
   ]
  },
  {
   "cell_type": "code",
   "execution_count": null,
   "metadata": {},
   "outputs": [],
   "source": []
  },
  {
   "cell_type": "code",
   "execution_count": null,
   "metadata": {},
   "outputs": [],
   "source": [
    "# from datetime import datetime\n",
    "# now = datetime.now()\n",
    "# config_file = \"config_densenet_20171207_1950\"\n",
    "\n",
    "# !python3 train_model.py train_configs/{config_file}.json"
   ]
  },
  {
   "cell_type": "markdown",
   "metadata": {},
   "source": [
    "Multi-inputs DenseNet"
   ]
  },
  {
   "cell_type": "code",
   "execution_count": 18,
   "metadata": {},
   "outputs": [
    {
     "name": "stdout",
     "output_type": "stream",
     "text": [
      "^C\r\n"
     ]
    }
   ],
   "source": [
    "from datetime import datetime\n",
    "now = datetime.now()\n",
    "config_file = \"config_densenet_20180120_2140\"\n",
    "\n",
    "!python3 train_model.py train_configs/multi_input/{config_file}.json > ../output/jobs/{now.strftime(\"%Y%m%d_%H%M\")}_{config_file} 2>&1\n"
   ]
  },
  {
   "cell_type": "code",
   "execution_count": null,
   "metadata": {},
   "outputs": [],
   "source": []
  },
  {
   "cell_type": "markdown",
   "metadata": {},
   "source": [
    "FFT"
   ]
  },
  {
   "cell_type": "code",
   "execution_count": 32,
   "metadata": {},
   "outputs": [
    {
     "name": "stdout",
     "output_type": "stream",
     "text": [
      "2018-01-21 23:09:51.538597\n",
      "^C\n"
     ]
    }
   ],
   "source": [
    "from datetime import datetime\n",
    "now = datetime.now()\n",
    "print(now)\n",
    "\n",
    "config_file = \"config_densenet_20180121_1951\"\n",
    "\n",
    "!python3 train_model.py train_configs/multi_input/{config_file}.json > ../output/jobs/{now.strftime(\"%Y%m%d_%H%M\")}_{config_file} 2>&1\n"
   ]
  },
  {
   "cell_type": "code",
   "execution_count": null,
   "metadata": {},
   "outputs": [],
   "source": []
  },
  {
   "cell_type": "code",
   "execution_count": null,
   "metadata": {},
   "outputs": [],
   "source": []
  },
  {
   "cell_type": "code",
   "execution_count": null,
   "metadata": {},
   "outputs": [],
   "source": []
  },
  {
   "cell_type": "code",
   "execution_count": 4,
   "metadata": {},
   "outputs": [],
   "source": [
    "from datetime import datetime\n",
    "now = datetime.now()\n",
    "config_file = \"config_single_network_20171203_1500\"\n",
    "\n",
    "!python3 make_test_predictions.py test_configs/{config_file}.json > ../output/jobs/{now.strftime(\"%Y%m%d_%H%M\")}_{config_file} 2>&1"
   ]
  },
  {
   "cell_type": "code",
   "execution_count": null,
   "metadata": {},
   "outputs": [],
   "source": []
  },
  {
   "cell_type": "code",
   "execution_count": 6,
   "metadata": {},
   "outputs": [],
   "source": [
    "from datetime import datetime\n",
    "now = datetime.now()\n",
    "config_file = \"config_kfolds_densenet_20171221_0830\"\n",
    "\n",
    "!python3 make_test_predictions.py test_configs/{config_file}.json > ../output/jobs/{now.strftime(\"%Y%m%d_%H%M\")}_{config_file} 2>&1"
   ]
  },
  {
   "cell_type": "code",
   "execution_count": 29,
   "metadata": {},
   "outputs": [],
   "source": [
    "# !python3 make_predictions.py test_configs/{config_file}.json"
   ]
  },
  {
   "cell_type": "code",
   "execution_count": null,
   "metadata": {},
   "outputs": [],
   "source": []
  },
  {
   "cell_type": "code",
   "execution_count": null,
   "metadata": {},
   "outputs": [],
   "source": []
  },
  {
   "cell_type": "code",
   "execution_count": null,
   "metadata": {},
   "outputs": [],
   "source": []
  },
  {
   "cell_type": "code",
   "execution_count": null,
   "metadata": {},
   "outputs": [],
   "source": []
  },
  {
   "cell_type": "code",
   "execution_count": 10,
   "metadata": {},
   "outputs": [
    {
     "name": "stdout",
     "output_type": "stream",
     "text": [
      "\n",
      "Write submission as average proba of multiple models predictions\n",
      "\n",
      "Written submission: ../results/submission__avg_models__20171221_1100_predictions_best_models.csv\n"
     ]
    }
   ],
   "source": [
    "!python3 submission_avg_models.py ../output/20171221_1100_predictions_best_models"
   ]
  },
  {
   "cell_type": "code",
   "execution_count": null,
   "metadata": {},
   "outputs": [],
   "source": []
  },
  {
   "cell_type": "code",
   "execution_count": null,
   "metadata": {},
   "outputs": [],
   "source": []
  },
  {
   "cell_type": "code",
   "execution_count": null,
   "metadata": {},
   "outputs": [],
   "source": []
  },
  {
   "cell_type": "code",
   "execution_count": 2,
   "metadata": {},
   "outputs": [],
   "source": [
    "from datetime import datetime\n",
    "now = datetime.now()\n",
    "config_file = \"config_model_4\"\n",
    "\n",
    "!python3 train_xgb_model.py train_configs/xgb_models/{config_file}.json > ../output/jobs/{now.strftime(\"%Y%m%d_%H%M\")}_{config_file} 2>&1"
   ]
  },
  {
   "cell_type": "code",
   "execution_count": null,
   "metadata": {},
   "outputs": [],
   "source": []
  }
 ],
 "metadata": {
  "kernelspec": {
   "display_name": "Python 3",
   "language": "python",
   "name": "python3"
  },
  "language_info": {
   "codemirror_mode": {
    "name": "ipython",
    "version": 3
   },
   "file_extension": ".py",
   "mimetype": "text/x-python",
   "name": "python",
   "nbconvert_exporter": "python",
   "pygments_lexer": "ipython3",
   "version": "3.5.2"
  }
 },
 "nbformat": 4,
 "nbformat_minor": 2
}
