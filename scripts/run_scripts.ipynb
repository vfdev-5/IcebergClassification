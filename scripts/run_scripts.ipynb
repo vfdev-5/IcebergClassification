{
 "cells": [
  {
   "cell_type": "markdown",
   "metadata": {},
   "source": [
    "Run scripts from nb"
   ]
  },
  {
   "cell_type": "code",
   "execution_count": 1,
   "metadata": {},
   "outputs": [
    {
     "name": "stdout",
     "output_type": "stream",
     "text": [
      "download_data.sh   train_configs\tunzip_data.sh\r\n",
      "run_scripts.ipynb  train_squeezenet.py\r\n"
     ]
    }
   ],
   "source": [
    "!ls"
   ]
  },
  {
   "cell_type": "code",
   "execution_count": 3,
   "metadata": {},
   "outputs": [],
   "source": [
    "import os\n",
    "os.environ['PRETRAINED_MODELS'] = '../../../pretrained-models.pytorch/'"
   ]
  },
  {
   "cell_type": "code",
   "execution_count": null,
   "metadata": {
    "scrolled": false
   },
   "outputs": [
    {
     "name": "stdout",
     "output_type": "stream",
     "text": [
      "\n",
      "Start train model\n",
      "\n",
      "\n",
      "\n",
      " -------- Train on fold 1 / 7 ---------- \n",
      "\n",
      "\n",
      "n_epochs: 200\n",
      "optimizer: {'Adam': {'params': [{'params': {'model.features.parameters': {}}, 'lr': 0.0001}, {'params': {'model.classifier.parameters': {}}, 'lr': 0.0001}]}}\n",
      "model: {'IcebergSqueezeNet': {'input_n_channels': 1}}\n",
      "lr_schedulers: [{'ExponentialLR': {'gamma': 0.77}}, {'ReduceLROnPlateau': {'factor': 0.2, 'mode': 'max', 'patience': 3, 'verbose': 'True'}}]\n",
      "train_aug: {'Compose': {'transforms': [{'RandomChoice': {'transforms': [{'RandomAffine': {'interpolation': 0, 'rotation': [-90, 90], 'translate': [0.105, 0.105]}}, {'RandomFlip': {'mode': 'h', 'proba': 0.5}}, {'RandomFlip': {'mode': 'v', 'proba': 0.5}}]}}, {'_ToTensor': {}}]}}\n",
      "num_workers: 12\n",
      "early_stopping: {'mode': 'max', 'patience': 7}\n",
      "test_aug: {'Compose': {'transforms': [{'_ToTensor': {}}]}}\n",
      "fold_index: [0, 1, 2, 3, 4, 5, 6]\n",
      "validate_every_epoch: 5\n",
      "batch_size: 32\n",
      "seed: 7777\n",
      "n_splits: 7\n",
      "\n",
      "\n",
      "\n",
      "\n",
      "Optimizer: Adam\n",
      "- Param group: \n",
      "\tbetas: (0.9, 0.999)\n",
      "\tweight_decay: 0\n",
      "\tlr: 0.0001\n",
      "\teps: 1e-08\n",
      "- Param group: \n",
      "\tbetas: (0.9, 0.999)\n",
      "\tweight_decay: 0\n",
      "\tlr: 0.0001\n",
      "\teps: 1e-08\n",
      "\n",
      "Epoch: 1/200: 100%|#| 42/42 [00:02<00:00, 17.38it/s, Loss 0.6927 | accuracy_logits 0.539]\n",
      "Validation: 100%|#| 7/7 [00:00<00:00, 13.19it/s, Loss 0.6916 | accuracy_logits 0.536]\n",
      "Epoch: 2/200: 100%|#| 42/42 [00:01<00:00, 21.47it/s, Loss 0.6094 | accuracy_logits 0.567]\n",
      "Epoch: 3/200:  21%|2| 9/42 [00:00<00:10,  3.13it/s, Loss 0.5987 | accuracy_logits 0.656]"
     ]
    }
   ],
   "source": [
    "!python3 train_model.py train_configs/config_squeezenet_20171129_2155.json"
   ]
  },
  {
   "cell_type": "code",
   "execution_count": null,
   "metadata": {},
   "outputs": [],
   "source": []
  }
 ],
 "metadata": {
  "kernelspec": {
   "display_name": "Python 3",
   "language": "python",
   "name": "python3"
  },
  "language_info": {
   "codemirror_mode": {
    "name": "ipython",
    "version": 3
   },
   "file_extension": ".py",
   "mimetype": "text/x-python",
   "name": "python",
   "nbconvert_exporter": "python",
   "pygments_lexer": "ipython3",
   "version": "3.5.2"
  }
 },
 "nbformat": 4,
 "nbformat_minor": 2
}
