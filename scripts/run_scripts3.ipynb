{
 "cells": [
  {
   "cell_type": "markdown",
   "metadata": {},
   "source": [
    "Run scripts from nb"
   ]
  },
  {
   "cell_type": "code",
   "execution_count": 1,
   "metadata": {},
   "outputs": [
    {
     "name": "stdout",
     "output_type": "stream",
     "text": [
      "download_data.sh\t  second_level_boosting.py  train_model.py\r\n",
      "make_test_predictions.py  second_level_configs\t    train_squeezenet_ignite.py\r\n",
      "run_scripts2.ipynb\t  submission_avg_models.py  unzip_data.sh\r\n",
      "run_scripts3.ipynb\t  test_configs\r\n",
      "run_scripts.ipynb\t  train_configs\r\n"
     ]
    }
   ],
   "source": [
    "!ls"
   ]
  },
  {
   "cell_type": "code",
   "execution_count": 2,
   "metadata": {},
   "outputs": [],
   "source": [
    "import os\n",
    "os.environ['PRETRAINED_MODELS'] = '../../../pretrained-models.pytorch/'"
   ]
  },
  {
   "cell_type": "code",
   "execution_count": 10,
   "metadata": {
    "scrolled": true
   },
   "outputs": [
    {
     "name": "stdout",
     "output_type": "stream",
     "text": [
      "^C\r\n"
     ]
    }
   ],
   "source": [
    "from datetime import datetime\n",
    "now = datetime.now()\n",
    "config_file = \"config_vgg13_angle_stats_20171220_2339\"\n",
    "\n",
    "!python3 train_model.py train_configs/{config_file}.json > ../output/jobs/{now.strftime(\"%Y%m%d_%H%M\")}_{config_file} 2>&1"
   ]
  },
  {
   "cell_type": "code",
   "execution_count": null,
   "metadata": {},
   "outputs": [],
   "source": []
  },
  {
   "cell_type": "code",
   "execution_count": 38,
   "metadata": {
    "scrolled": true
   },
   "outputs": [],
   "source": [
    "from datetime import datetime\n",
    "now = datetime.now()\n",
    "config_file = \"config_densenet_20171208_2354\"\n",
    "\n",
    "!python3 train_model.py train_configs/{config_file}.json > ../output/jobs/{now.strftime(\"%Y%m%d_%H%M\")}_{config_file} 2>&1"
   ]
  },
  {
   "cell_type": "code",
   "execution_count": null,
   "metadata": {},
   "outputs": [],
   "source": []
  },
  {
   "cell_type": "code",
   "execution_count": 39,
   "metadata": {},
   "outputs": [],
   "source": [
    "from datetime import datetime\n",
    "now = datetime.now()\n",
    "config_file = \"config_inceptionv6_20171209_0045\"\n",
    "\n",
    "!python3 train_model.py train_configs/{config_file}.json > ../output/jobs/{now.strftime(\"%Y%m%d_%H%M\")}_{config_file} 2>&1"
   ]
  },
  {
   "cell_type": "code",
   "execution_count": null,
   "metadata": {},
   "outputs": [],
   "source": []
  },
  {
   "cell_type": "code",
   "execution_count": null,
   "metadata": {},
   "outputs": [],
   "source": []
  },
  {
   "cell_type": "code",
   "execution_count": 30,
   "metadata": {},
   "outputs": [],
   "source": [
    "from datetime import datetime\n",
    "now = datetime.now()\n",
    "config_file = \"config_densenet_20171208_2354\"\n",
    "\n",
    "# !python3 train_model.py train_configs/{config_file}.json"
   ]
  },
  {
   "cell_type": "code",
   "execution_count": null,
   "metadata": {},
   "outputs": [],
   "source": []
  },
  {
   "cell_type": "code",
   "execution_count": null,
   "metadata": {},
   "outputs": [],
   "source": []
  },
  {
   "cell_type": "code",
   "execution_count": 41,
   "metadata": {},
   "outputs": [
    {
     "name": "stdout",
     "output_type": "stream",
     "text": [
      "^C\r\n"
     ]
    }
   ],
   "source": [
    "from datetime import datetime\n",
    "now = datetime.now()\n",
    "config_file = \"config_model_6\"\n",
    "\n",
    "!python3 train_xgb_model.py train_configs/xgb_models/{config_file}.json > ../output/jobs/{now.strftime(\"%Y%m%d_%H%M\")}_{config_file} 2>&1"
   ]
  },
  {
   "cell_type": "code",
   "execution_count": null,
   "metadata": {},
   "outputs": [],
   "source": []
  },
  {
   "cell_type": "code",
   "execution_count": null,
   "metadata": {},
   "outputs": [],
   "source": []
  },
  {
   "cell_type": "code",
   "execution_count": 7,
   "metadata": {},
   "outputs": [],
   "source": [
    "from datetime import datetime\n",
    "now = datetime.now()\n",
    "config_file = \"config_kfolds_vgg13_angle_stats_20171217_1803\"\n",
    "\n",
    "!python3 make_test_predictions.py test_configs/{config_file}.json > ../output/jobs/{now.strftime(\"%Y%m%d_%H%M\")}_{config_file} 2>&1"
   ]
  },
  {
   "cell_type": "code",
   "execution_count": null,
   "metadata": {},
   "outputs": [],
   "source": []
  },
  {
   "cell_type": "code",
   "execution_count": 10,
   "metadata": {},
   "outputs": [],
   "source": [
    "from datetime import datetime\n",
    "now = datetime.now()\n",
    "config_file = \"config_kfolds_densenet_20171204_1300\"\n",
    "\n",
    "!python3 make_test_predictions.py test_configs/{config_file}.json > ../output/jobs/{now.strftime(\"%Y%m%d_%H%M\")}_{config_file} 2>&1"
   ]
  },
  {
   "cell_type": "code",
   "execution_count": null,
   "metadata": {},
   "outputs": [],
   "source": []
  },
  {
   "cell_type": "code",
   "execution_count": 8,
   "metadata": {},
   "outputs": [
    {
     "name": "stdout",
     "output_type": "stream",
     "text": [
      "\r\n",
      "Write submission as average proba of multiple models predictions\r\n",
      "\r\n"
     ]
    }
   ],
   "source": [
    "!python3 submission_avg_models.py ../output/20171217_1845_predictions_config_kfolds_vgg13_angle_stats_20171217_1803"
   ]
  },
  {
   "cell_type": "code",
   "execution_count": null,
   "metadata": {},
   "outputs": [],
   "source": []
  },
  {
   "cell_type": "code",
   "execution_count": null,
   "metadata": {},
   "outputs": [],
   "source": []
  },
  {
   "cell_type": "code",
   "execution_count": 36,
   "metadata": {},
   "outputs": [
    {
     "name": "stdout",
     "output_type": "stream",
     "text": [
      "/usr/local/lib/python3.5/dist-packages/sklearn/cross_validation.py:41: DeprecationWarning: This module was deprecated in version 0.18 in favor of the model_selection module into which all the refactored classes and functions are moved. Also note that the interface of the new CV iterators are different from that of this module. This module will be removed in 0.20.\n",
      "  \"This module will be removed in 0.20.\", DeprecationWarning)\n",
      "\n",
      "Make predictions\n",
      "\n",
      "\n",
      "\n",
      "seed: 7777\n",
      "dataset: ../output/processed_full_test.csv\n",
      "models: [{'name': 'model_1', 'features': ['min_b1', 'avg_b1', 'max_b1', 'avg_min_b1', 'max_avg_b1', 'min_b2', 'max_b2', 'max_avg_b2', 'max_min_b2', 'avg_min_b3', 'max_avg_b3', 'max_min_b3', 'max_b21', 'obj_min_b1', 'obj_avg_b1', 'obj_min_b2', 'obj_avg_b2', 'obj_avg_b21', 'obj_max_b21', 'obj_size', 'obj_m0', 'obj_m1', 'obj_m2', 'obj_m3', 'obj_m4', 'obj_m5', 'obj_m6', 'obj_length', 'obj_area', 'obj_f1', 'obj_cnvx_def_min', 'obj_cnvx_def_max', 'obj_cnvx_def_mean', 'obj_n_cnvx_def'], 'path': '../output/20180117_1048_training_config_model_4/model.xgb'}]\n",
      "\n",
      "\n",
      "\n",
      "\n",
      " --- Model model_1\n"
     ]
    }
   ],
   "source": [
    "from datetime import datetime\n",
    "now = datetime.now()\n",
    "config_file = \"config_single_best_model\"\n",
    "\n",
    "# !python3 make_test_xgb_predictions.py test_configs/{config_file}.json > ../output/jobs/{now.strftime(\"%Y%m%d_%H%M\")}_{config_file} 2>&1\n",
    "!python3 make_test_xgb_predictions.py test_configs/xgb_models/{config_file}.json"
   ]
  },
  {
   "cell_type": "code",
   "execution_count": 40,
   "metadata": {},
   "outputs": [
    {
     "name": "stdout",
     "output_type": "stream",
     "text": [
      "\n",
      "Write submission as average proba of multiple models predictions\n",
      "\n",
      "Apply proba_thresholds=[0.02, 0.98]\n",
      "Written submission: ../results/submission__avg_models__20180118_0939_predictions_config_single_best_model.csv\n"
     ]
    }
   ],
   "source": [
    "!python3 submission_avg_models.py --proba_thresholds 0.02 0.98 ../output/20180118_0939_predictions_config_single_best_model"
   ]
  },
  {
   "cell_type": "code",
   "execution_count": null,
   "metadata": {},
   "outputs": [],
   "source": []
  },
  {
   "cell_type": "code",
   "execution_count": null,
   "metadata": {},
   "outputs": [],
   "source": []
  },
  {
   "cell_type": "code",
   "execution_count": 62,
   "metadata": {},
   "outputs": [],
   "source": [
    "!ls ../output/processed_train.csv"
   ]
  },
  {
   "cell_type": "code",
   "execution_count": 63,
   "metadata": {},
   "outputs": [
    {
     "name": "stdout",
     "output_type": "stream",
     "text": [
      "\n",
      "Start dataset processing\n",
      "\n",
      "\n",
      " Normalize bands and add band 3\n",
      "\n",
      " Compute min, avg, max for all bands\n",
      "\n",
      " Compute inv_max_avg_b1, inv_max_avg_b2, max_b21\n",
      "\n",
      " Compute object properties\n",
      "100%|██████████████████████████████████████| 1604/1604 [00:10<00:00, 153.71it/s]\n",
      "\n",
      "Save to file\n"
     ]
    }
   ],
   "source": [
    "!python3 process_dataset.py train ../output/processed_train.csv"
   ]
  },
  {
   "cell_type": "code",
   "execution_count": null,
   "metadata": {},
   "outputs": [],
   "source": []
  },
  {
   "cell_type": "code",
   "execution_count": 64,
   "metadata": {
    "scrolled": true
   },
   "outputs": [
    {
     "name": "stdout",
     "output_type": "stream",
     "text": [
      "\n",
      "Start dataset processing\n",
      "\n",
      "\n",
      " Normalize bands and add band 3\n",
      "/usr/local/lib/python3.5/dist-packages/pandas/core/indexing.py:357: SettingWithCopyWarning: \n",
      "A value is trying to be set on a copy of a slice from a DataFrame.\n",
      "Try using .loc[row_indexer,col_indexer] = value instead\n",
      "\n",
      "See the caveats in the documentation: http://pandas.pydata.org/pandas-docs/stable/indexing.html#indexing-view-versus-copy\n",
      "  self.obj[key] = _infer_fill_value(value)\n",
      "/usr/local/lib/python3.5/dist-packages/pandas/core/indexing.py:537: SettingWithCopyWarning: \n",
      "A value is trying to be set on a copy of a slice from a DataFrame.\n",
      "Try using .loc[row_indexer,col_indexer] = value instead\n",
      "\n",
      "See the caveats in the documentation: http://pandas.pydata.org/pandas-docs/stable/indexing.html#indexing-view-versus-copy\n",
      "  self.obj[item] = s\n",
      "\n",
      " Compute min, avg, max for all bands\n",
      "\n",
      " Compute inv_max_avg_b1, inv_max_avg_b2, max_b21\n",
      "\n",
      " Compute object properties\n",
      "  0%|                                       | 1/3183 [00:17<15:30:35, 17.55s/it]process_dataset.py:83: SettingWithCopyWarning: \n",
      "A value is trying to be set on a copy of a slice from a DataFrame\n",
      "\n",
      "See the caveats in the documentation: http://pandas.pydata.org/pandas-docs/stable/indexing.html#indexing-view-versus-copy\n",
      "  df.loc[i, 'obj_length'] = cv2.arcLength(biggest_contour, closed=True)\n",
      "100%|███████████████████████████████████████| 3183/3183 [00:40<00:00, 78.03it/s]\n",
      "\n",
      "Save to file\n"
     ]
    }
   ],
   "source": [
    "!python3 process_dataset.py test ../output/processed_test.csv --ignore_fake_data"
   ]
  },
  {
   "cell_type": "code",
   "execution_count": null,
   "metadata": {},
   "outputs": [],
   "source": []
  },
  {
   "cell_type": "code",
   "execution_count": 65,
   "metadata": {},
   "outputs": [
    {
     "name": "stdout",
     "output_type": "stream",
     "text": [
      "\n",
      "Start dataset processing\n",
      "\n",
      "\n",
      " Normalize bands and add band 3\n",
      "\n",
      " Compute min, avg, max for all bands\n",
      "\n",
      " Compute inv_max_avg_b1, inv_max_avg_b2, max_b21\n",
      "\n",
      " Compute object properties\n",
      "100%|██████████████████████████████████████| 8424/8424 [00:56<00:00, 150.06it/s]\n",
      "\n",
      "Save to file\n"
     ]
    }
   ],
   "source": [
    "!python3 process_dataset.py test ../output/processed_full_test.csv"
   ]
  },
  {
   "cell_type": "code",
   "execution_count": null,
   "metadata": {},
   "outputs": [],
   "source": []
  }
 ],
 "metadata": {
  "kernelspec": {
   "display_name": "Python 3",
   "language": "python",
   "name": "python3"
  },
  "language_info": {
   "codemirror_mode": {
    "name": "ipython",
    "version": 3
   },
   "file_extension": ".py",
   "mimetype": "text/x-python",
   "name": "python",
   "nbconvert_exporter": "python",
   "pygments_lexer": "ipython3",
   "version": "3.5.2"
  }
 },
 "nbformat": 4,
 "nbformat_minor": 2
}
